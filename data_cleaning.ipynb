{
 "cells": [
  {
   "cell_type": "markdown",
   "id": "691f3a3c-1ca2-4f1c-ac13-1c4a934b8b95",
   "metadata": {},
   "source": [
    "# Introduction"
   ]
  },
  {
   "cell_type": "markdown",
   "id": "ddaae4f2-cb77-41ad-b2a0-cb37f0292860",
   "metadata": {},
   "source": [
    "In this notebook, we are going to follow some data wrangling, including cleaning and organizing steps on a raw dataset, scraped from the audible website.\n",
    "This is a good example of several required steps for data cleansing process, which is necessary usually to make the data ready for next steps such as analysis.\n",
    "\n",
    "The dataset is available online in Kaggle under the public domain: https://www.kaggle.com/datasets/snehangsude/audible-dataset?select=audible_uncleaned.csv but in this notebook we use the locally available file named \"audible_uncleaned.csv\".\n",
    "The output is written to a new file called \"audible_cleaned.csv\""
   ]
  },
  {
   "cell_type": "code",
   "execution_count": 1,
   "id": "1a29e94c-404e-4a71-82bd-03fc5a8058cb",
   "metadata": {},
   "outputs": [],
   "source": [
    "#import the required libraries needed in the notebook\n",
    "\n",
    "import pandas as pd\n",
    "import numpy as np\n",
    "\n",
    "import seaborn as sns\n",
    "from matplotlib import pyplot as plt\n",
    "import seaborn as sns\n",
    "\n",
    "from datetime import datetime, timedelta\n",
    "\n",
    "import os"
   ]
  },
  {
   "cell_type": "code",
   "execution_count": 2,
   "id": "2420c826-cc8a-4014-a848-70784a9ff9d8",
   "metadata": {},
   "outputs": [],
   "source": [
    "# red the raw dataset\n",
    "\n",
    "file_path = os.path.join('data', 'audible_uncleaned.csv')\n",
    "audio_df = pd.read_csv(file_path)"
   ]
  },
  {
   "cell_type": "markdown",
   "id": "a9236c02-a19b-4b3f-8e1e-1cd031d8d43e",
   "metadata": {},
   "source": [
    "Let's see the schema and the number of rows in this dataset."
   ]
  },
  {
   "cell_type": "code",
   "execution_count": 3,
   "id": "c434d71e-4aea-40b4-a4bc-aba173d0a6eb",
   "metadata": {},
   "outputs": [
    {
     "name": "stdout",
     "output_type": "stream",
     "text": [
      "<class 'pandas.core.frame.DataFrame'>\n",
      "RangeIndex: 87489 entries, 0 to 87488\n",
      "Data columns (total 8 columns):\n",
      " #   Column       Non-Null Count  Dtype \n",
      "---  ------       --------------  ----- \n",
      " 0   name         87489 non-null  object\n",
      " 1   author       87489 non-null  object\n",
      " 2   narrator     87489 non-null  object\n",
      " 3   time         87489 non-null  object\n",
      " 4   releasedate  87489 non-null  object\n",
      " 5   language     87489 non-null  object\n",
      " 6   stars        87489 non-null  object\n",
      " 7   price        87489 non-null  object\n",
      "dtypes: object(8)\n",
      "memory usage: 5.3+ MB\n"
     ]
    }
   ],
   "source": [
    "audio_df.info()"
   ]
  },
  {
   "cell_type": "markdown",
   "id": "74081dff-6381-4f4e-a782-fc635f4e893c",
   "metadata": {},
   "source": [
    "Let's see how the data looks like."
   ]
  },
  {
   "cell_type": "code",
   "execution_count": 4,
   "id": "1d953a91-22c9-441f-b7b7-36e1cf2f2c89",
   "metadata": {},
   "outputs": [
    {
     "data": {
      "text/html": [
       "<div>\n",
       "<style scoped>\n",
       "    .dataframe tbody tr th:only-of-type {\n",
       "        vertical-align: middle;\n",
       "    }\n",
       "\n",
       "    .dataframe tbody tr th {\n",
       "        vertical-align: top;\n",
       "    }\n",
       "\n",
       "    .dataframe thead th {\n",
       "        text-align: right;\n",
       "    }\n",
       "</style>\n",
       "<table border=\"1\" class=\"dataframe\">\n",
       "  <thead>\n",
       "    <tr style=\"text-align: right;\">\n",
       "      <th></th>\n",
       "      <th>name</th>\n",
       "      <th>author</th>\n",
       "      <th>narrator</th>\n",
       "      <th>time</th>\n",
       "      <th>releasedate</th>\n",
       "      <th>language</th>\n",
       "      <th>stars</th>\n",
       "      <th>price</th>\n",
       "    </tr>\n",
       "  </thead>\n",
       "  <tbody>\n",
       "    <tr>\n",
       "      <th>0</th>\n",
       "      <td>Geronimo Stilton #11 &amp; #12</td>\n",
       "      <td>Writtenby:GeronimoStilton</td>\n",
       "      <td>Narratedby:BillLobely</td>\n",
       "      <td>2 hrs and 20 mins</td>\n",
       "      <td>04-08-08</td>\n",
       "      <td>English</td>\n",
       "      <td>5 out of 5 stars34 ratings</td>\n",
       "      <td>468.00</td>\n",
       "    </tr>\n",
       "    <tr>\n",
       "      <th>1</th>\n",
       "      <td>The Burning Maze</td>\n",
       "      <td>Writtenby:RickRiordan</td>\n",
       "      <td>Narratedby:RobbieDaymond</td>\n",
       "      <td>13 hrs and 8 mins</td>\n",
       "      <td>01-05-18</td>\n",
       "      <td>English</td>\n",
       "      <td>4.5 out of 5 stars41 ratings</td>\n",
       "      <td>820.00</td>\n",
       "    </tr>\n",
       "    <tr>\n",
       "      <th>2</th>\n",
       "      <td>The Deep End</td>\n",
       "      <td>Writtenby:JeffKinney</td>\n",
       "      <td>Narratedby:DanRussell</td>\n",
       "      <td>2 hrs and 3 mins</td>\n",
       "      <td>06-11-20</td>\n",
       "      <td>English</td>\n",
       "      <td>4.5 out of 5 stars38 ratings</td>\n",
       "      <td>410.00</td>\n",
       "    </tr>\n",
       "    <tr>\n",
       "      <th>3</th>\n",
       "      <td>Daughter of the Deep</td>\n",
       "      <td>Writtenby:RickRiordan</td>\n",
       "      <td>Narratedby:SoneelaNankani</td>\n",
       "      <td>11 hrs and 16 mins</td>\n",
       "      <td>05-10-21</td>\n",
       "      <td>English</td>\n",
       "      <td>4.5 out of 5 stars12 ratings</td>\n",
       "      <td>615.00</td>\n",
       "    </tr>\n",
       "    <tr>\n",
       "      <th>4</th>\n",
       "      <td>The Lightning Thief: Percy Jackson, Book 1</td>\n",
       "      <td>Writtenby:RickRiordan</td>\n",
       "      <td>Narratedby:JesseBernstein</td>\n",
       "      <td>10 hrs</td>\n",
       "      <td>13-01-10</td>\n",
       "      <td>English</td>\n",
       "      <td>4.5 out of 5 stars181 ratings</td>\n",
       "      <td>820.00</td>\n",
       "    </tr>\n",
       "  </tbody>\n",
       "</table>\n",
       "</div>"
      ],
      "text/plain": [
       "                                         name                     author  \\\n",
       "0                  Geronimo Stilton #11 & #12  Writtenby:GeronimoStilton   \n",
       "1                            The Burning Maze      Writtenby:RickRiordan   \n",
       "2                                The Deep End       Writtenby:JeffKinney   \n",
       "3                        Daughter of the Deep      Writtenby:RickRiordan   \n",
       "4  The Lightning Thief: Percy Jackson, Book 1      Writtenby:RickRiordan   \n",
       "\n",
       "                    narrator                time releasedate language  \\\n",
       "0      Narratedby:BillLobely   2 hrs and 20 mins    04-08-08  English   \n",
       "1   Narratedby:RobbieDaymond   13 hrs and 8 mins    01-05-18  English   \n",
       "2      Narratedby:DanRussell    2 hrs and 3 mins    06-11-20  English   \n",
       "3  Narratedby:SoneelaNankani  11 hrs and 16 mins    05-10-21  English   \n",
       "4  Narratedby:JesseBernstein              10 hrs    13-01-10  English   \n",
       "\n",
       "                           stars   price  \n",
       "0     5 out of 5 stars34 ratings  468.00  \n",
       "1   4.5 out of 5 stars41 ratings  820.00  \n",
       "2   4.5 out of 5 stars38 ratings  410.00  \n",
       "3   4.5 out of 5 stars12 ratings  615.00  \n",
       "4  4.5 out of 5 stars181 ratings  820.00  "
      ]
     },
     "execution_count": 4,
     "metadata": {},
     "output_type": "execute_result"
    }
   ],
   "source": [
    "audio_df.head()"
   ]
  },
  {
   "cell_type": "markdown",
   "id": "65bdca9d-8ee3-48a5-b586-32a5598125ad",
   "metadata": {},
   "source": [
    "We could observe that most of the columns need some kinds of processing and fixing the data formats. All columns are defined as string while we shoud cast some of those to the proper types to make the later analyis easier and faster. The datatype of the first three columns looks fine but the rest of clumns should be converted to the adequate data type. We also need to clean some columns from extra and unnecessary data, e.g. the \"author\" and \"narrator\" columns. \n",
    "\n",
    "Now let's get a simple statistical overview of the data that reveals intersting points."
   ]
  },
  {
   "cell_type": "code",
   "execution_count": 5,
   "id": "1dc67abb-07a8-41be-bf2d-46f14cf65390",
   "metadata": {},
   "outputs": [
    {
     "data": {
      "text/html": [
       "<div>\n",
       "<style scoped>\n",
       "    .dataframe tbody tr th:only-of-type {\n",
       "        vertical-align: middle;\n",
       "    }\n",
       "\n",
       "    .dataframe tbody tr th {\n",
       "        vertical-align: top;\n",
       "    }\n",
       "\n",
       "    .dataframe thead th {\n",
       "        text-align: right;\n",
       "    }\n",
       "</style>\n",
       "<table border=\"1\" class=\"dataframe\">\n",
       "  <thead>\n",
       "    <tr style=\"text-align: right;\">\n",
       "      <th></th>\n",
       "      <th>count</th>\n",
       "      <th>unique</th>\n",
       "      <th>top</th>\n",
       "      <th>freq</th>\n",
       "    </tr>\n",
       "  </thead>\n",
       "  <tbody>\n",
       "    <tr>\n",
       "      <th>name</th>\n",
       "      <td>87489</td>\n",
       "      <td>82767</td>\n",
       "      <td>The Art of War</td>\n",
       "      <td>20</td>\n",
       "    </tr>\n",
       "    <tr>\n",
       "      <th>author</th>\n",
       "      <td>87489</td>\n",
       "      <td>48374</td>\n",
       "      <td>Writtenby:矢島雅弘,石橋遊</td>\n",
       "      <td>874</td>\n",
       "    </tr>\n",
       "    <tr>\n",
       "      <th>narrator</th>\n",
       "      <td>87489</td>\n",
       "      <td>29717</td>\n",
       "      <td>Narratedby:anonymous</td>\n",
       "      <td>1034</td>\n",
       "    </tr>\n",
       "    <tr>\n",
       "      <th>time</th>\n",
       "      <td>87489</td>\n",
       "      <td>2284</td>\n",
       "      <td>2 mins</td>\n",
       "      <td>372</td>\n",
       "    </tr>\n",
       "    <tr>\n",
       "      <th>releasedate</th>\n",
       "      <td>87489</td>\n",
       "      <td>5058</td>\n",
       "      <td>16-05-18</td>\n",
       "      <td>773</td>\n",
       "    </tr>\n",
       "    <tr>\n",
       "      <th>language</th>\n",
       "      <td>87489</td>\n",
       "      <td>36</td>\n",
       "      <td>English</td>\n",
       "      <td>61884</td>\n",
       "    </tr>\n",
       "    <tr>\n",
       "      <th>stars</th>\n",
       "      <td>87489</td>\n",
       "      <td>665</td>\n",
       "      <td>Not rated yet</td>\n",
       "      <td>72417</td>\n",
       "    </tr>\n",
       "    <tr>\n",
       "      <th>price</th>\n",
       "      <td>87489</td>\n",
       "      <td>1011</td>\n",
       "      <td>586.00</td>\n",
       "      <td>5533</td>\n",
       "    </tr>\n",
       "  </tbody>\n",
       "</table>\n",
       "</div>"
      ],
      "text/plain": [
       "             count unique                   top   freq\n",
       "name         87489  82767        The Art of War     20\n",
       "author       87489  48374    Writtenby:矢島雅弘,石橋遊    874\n",
       "narrator     87489  29717  Narratedby:anonymous   1034\n",
       "time         87489   2284                2 mins    372\n",
       "releasedate  87489   5058              16-05-18    773\n",
       "language     87489     36               English  61884\n",
       "stars        87489    665         Not rated yet  72417\n",
       "price        87489   1011                586.00   5533"
      ]
     },
     "execution_count": 5,
     "metadata": {},
     "output_type": "execute_result"
    }
   ],
   "source": [
    "audio_df.describe().T"
   ]
  },
  {
   "cell_type": "markdown",
   "id": "cf294efa-cab7-4c5f-a886-3ad2e46076b8",
   "metadata": {},
   "source": [
    "From this output we can get more information about the data distributions, null data, etc.  For instance we notice that the \"language\" column inlcudes only 36 different languages across whole 87489 rows of data. Then by simply converting this column to category type, we will save too much space which is of course of high improtance while dealing with large datasets. Also we could see that some columns, such as \"narrator\" and \"stars\", include null data, although the column itseld has no null value but the value is indicating that there is no information included."
   ]
  },
  {
   "cell_type": "markdown",
   "id": "35158889-68ce-4e99-85b1-514208409f6a",
   "metadata": {},
   "source": [
    "# Cleaning the dataset\n",
    "\n",
    "In continue, we follow the cleaning process in the order of the columns in the datafarme."
   ]
  },
  {
   "cell_type": "markdown",
   "id": "0c61eb79-f9f1-4b3a-9f3c-503c18da855d",
   "metadata": {},
   "source": [
    "### The \"authors\" column"
   ]
  },
  {
   "cell_type": "code",
   "execution_count": 6,
   "id": "a0e9828c-62a1-4c59-bcf1-be342156cc25",
   "metadata": {},
   "outputs": [
    {
     "name": "stderr",
     "output_type": "stream",
     "text": [
      "C:\\Users\\Admin\\Anaconda3\\lib\\site-packages\\ipykernel_launcher.py:1: FutureWarning: The default value of regex will change from True to False in a future version.\n",
      "  \"\"\"Entry point for launching an IPython kernel.\n"
     ]
    }
   ],
   "source": [
    "audio_df['author'] = audio_df['author'].str[10:].str.replace(r'([a-z])([A-Z])', r'\\1 \\2')"
   ]
  },
  {
   "cell_type": "markdown",
   "id": "cc4ace3d-958f-4cae-b4f7-ff987d3b144c",
   "metadata": {},
   "source": [
    "### The \"narrator\" column"
   ]
  },
  {
   "cell_type": "code",
   "execution_count": 7,
   "id": "4f07b059-81cb-4e4b-833f-832caa13a01f",
   "metadata": {},
   "outputs": [
    {
     "name": "stderr",
     "output_type": "stream",
     "text": [
      "C:\\Users\\Admin\\Anaconda3\\lib\\site-packages\\ipykernel_launcher.py:7: FutureWarning: The default value of regex will change from True to False in a future version.\n",
      "  import sys\n"
     ]
    }
   ],
   "source": [
    "audio_df['narrator'] = audio_df['narrator'].str.strip()\n",
    "\n",
    "# set the null values\n",
    "audio_df.loc[audio_df['narrator'] == 'Narratedby:anonymous', 'narrator'] = np.NaN\n",
    "\n",
    "# reformat the column\n",
    "audio_df['narrator'] = audio_df['narrator'].str[11:].str.replace(r'([a-z])([A-Z])', r'\\1 \\2')"
   ]
  },
  {
   "cell_type": "markdown",
   "id": "3ceaf3ca-7d7c-4698-9973-f68e2bbdad43",
   "metadata": {},
   "source": [
    "### The \"time\" column\n",
    "\n",
    "By scrolling a bit the data, we realize that the values does not have a similar string patern. Some values include both hours and minues and some others include one of these two. This needs to be taken into account in our data processing.Therefore we define a function to consider all cases and apply it to the dataframe."
   ]
  },
  {
   "cell_type": "code",
   "execution_count": 8,
   "id": "b3558ef1-223d-4ad0-af20-3050b6734aae",
   "metadata": {},
   "outputs": [],
   "source": [
    "# this funtion extract the hours and minutes from the string values in the 'time' column \n",
    "def clean_time(time_str):\n",
    "    if 'Less than 1' in time_str:\n",
    "        hours_str = '0'\n",
    "        minutes_str = '0'\n",
    "    elif 'hr' in time_str:\n",
    "        hours_str = time_str.partition(' hr')[0]\n",
    "        minutes_str = time_str.partition('and ')[2].partition(' min')[0]\n",
    "        if minutes_str =='' or minutes_str == 'Less than 1':\n",
    "            minutes_str = '0'\n",
    "    else:\n",
    "        hours_str = '0'\n",
    "        minutes_str = time_str.partition(' min')[0]\n",
    "        \n",
    "    return timedelta(hours=int(hours_str), minutes=int(minutes_str))\n",
    "\n",
    "# we apply this function to the 'time' column and store the cleaned values in a new column called 'duration'\n",
    "audio_df['duration'] = audio_df['time'].apply(clean_time)\n",
    "\n",
    "#we do not need the 'time' columns so drop it\n",
    "audio_df.drop(['time'], axis=1, inplace=True)"
   ]
  },
  {
   "cell_type": "markdown",
   "id": "74934c1e-7aab-4835-a075-fbe66cab5b63",
   "metadata": {},
   "source": [
    "### The \"releasedate\" column\n",
    "\n",
    "for this column, simply the type conversion is enough."
   ]
  },
  {
   "cell_type": "code",
   "execution_count": 9,
   "id": "3d888b4c-7c69-40f6-af60-66107f3dac69",
   "metadata": {},
   "outputs": [],
   "source": [
    "audio_df['releasedate'] = pd.to_datetime(audio_df['releasedate'])\n",
    "\n",
    "#rename the column for more readability\n",
    "audio_df.rename(columns = {'releasedate':'release_date'}, inplace = True)"
   ]
  },
  {
   "cell_type": "markdown",
   "id": "36267264-1726-4728-8182-3ab8c78b90bd",
   "metadata": {},
   "source": [
    "### The \"language\" column\n",
    "\n",
    "The only step required for this column is converting it to the \"category\" data type."
   ]
  },
  {
   "cell_type": "code",
   "execution_count": 10,
   "id": "c5530954-e653-47f1-90e9-a4afa588ef38",
   "metadata": {},
   "outputs": [
    {
     "data": {
      "text/plain": [
       "['English', 'Hindi', 'spanish', 'german', 'french', ..., 'ukrainian', 'slovene', 'norwegian', 'telugu', 'lithuanian']\n",
       "Length: 36\n",
       "Categories (36, object): ['English', 'Hindi', 'afrikaans', 'arabic', ..., 'telugu', 'turkish', 'ukrainian', 'urdu']"
      ]
     },
     "execution_count": 10,
     "metadata": {},
     "output_type": "execute_result"
    }
   ],
   "source": [
    "audio_df['language'] = audio_df['language'].astype('category')\n",
    "\n",
    "audio_df['language'].unique()"
   ]
  },
  {
   "cell_type": "markdown",
   "id": "ad9bfeb1-948b-4e52-bcc5-14c892aead50",
   "metadata": {},
   "source": [
    "### The \"star\" column\n",
    "\n",
    "This columns include two piece of information that need to be extracted to new columns.\n",
    "- The rating score\n",
    "- The number of ratings"
   ]
  },
  {
   "cell_type": "code",
   "execution_count": 11,
   "id": "48283b48-5550-4724-8dce-09189a4368ed",
   "metadata": {},
   "outputs": [],
   "source": [
    "audio_df['stars'] = audio_df['stars'].str.strip()\n",
    "\n",
    "#setting the null value of the 'stars' colums\n",
    "audio_df.loc[audio_df['stars'] == 'Not rated yet', 'stars'] = np.NaN\n",
    "\n",
    "#splitting the information of the 'stars' columns to two new columns and removing the 'stars' column\n",
    "audio_df['rating_score'] = audio_df['stars'].str.partition('out ')[0]\n",
    "audio_df['rating_no'] = audio_df['stars'].str.partition('stars')[2].str.partition(' rating')[0]\n",
    "audio_df.drop(['stars'], axis=1, inplace=True)\n",
    "\n",
    "# converting the new columns to numbers\n",
    "audio_df['rating_score'] = pd.to_numeric(audio_df['rating_score'])\n",
    "\n",
    "# if we try to simply convert the 'rating_no' column to number we got a ValueError because\n",
    "# the numbers grether than 999 are include comma as seperator in their string, e.g. 1,423\n",
    "# then we need to remover this commas fisrt\n",
    "audio_df['rating_no'] = audio_df['rating_no'].str.replace(',','')\n",
    "\n",
    "audio_df['rating_no'] = pd.to_numeric(audio_df['rating_no'])"
   ]
  },
  {
   "cell_type": "markdown",
   "id": "108b46da-0edd-4dfa-8ba7-81140d5c657c",
   "metadata": {},
   "source": [
    "### The \"price\" column\n",
    "\n",
    "To type cast this column, we need to first get rid of commas as we did for the \"rating_no\" column"
   ]
  },
  {
   "cell_type": "code",
   "execution_count": 12,
   "id": "07d6334e-065e-4aef-bceb-a5d240d8ebf6",
   "metadata": {},
   "outputs": [],
   "source": [
    "audio_df['price'] = audio_df['price'].str.replace(',','')\n",
    "audio_df['price'] = audio_df['price'].str.replace('Free','0')\n",
    "\n",
    "audio_df['price'] = pd.to_numeric(audio_df['price'])"
   ]
  },
  {
   "cell_type": "markdown",
   "id": "5c9150f8-2769-4b17-9f87-7165f95a56a1",
   "metadata": {},
   "source": [
    "# Storing the cleaned data\n",
    "\n",
    "Now we completed the cleaning and we store the data to a anew dataset for the next exploratory analysis."
   ]
  },
  {
   "cell_type": "code",
   "execution_count": 13,
   "id": "aec18593-f7ec-4e45-a6d0-d014905cabab",
   "metadata": {},
   "outputs": [
    {
     "data": {
      "text/html": [
       "<div>\n",
       "<style scoped>\n",
       "    .dataframe tbody tr th:only-of-type {\n",
       "        vertical-align: middle;\n",
       "    }\n",
       "\n",
       "    .dataframe tbody tr th {\n",
       "        vertical-align: top;\n",
       "    }\n",
       "\n",
       "    .dataframe thead th {\n",
       "        text-align: right;\n",
       "    }\n",
       "</style>\n",
       "<table border=\"1\" class=\"dataframe\">\n",
       "  <thead>\n",
       "    <tr style=\"text-align: right;\">\n",
       "      <th></th>\n",
       "      <th>name</th>\n",
       "      <th>author</th>\n",
       "      <th>narrator</th>\n",
       "      <th>release_date</th>\n",
       "      <th>language</th>\n",
       "      <th>price</th>\n",
       "      <th>duration</th>\n",
       "      <th>rating_score</th>\n",
       "      <th>rating_no</th>\n",
       "    </tr>\n",
       "  </thead>\n",
       "  <tbody>\n",
       "    <tr>\n",
       "      <th>0</th>\n",
       "      <td>Geronimo Stilton #11 &amp; #12</td>\n",
       "      <td>Geronimo Stilton</td>\n",
       "      <td>Bill Lobely</td>\n",
       "      <td>2008-04-08</td>\n",
       "      <td>English</td>\n",
       "      <td>468.0</td>\n",
       "      <td>0 days 02:20:00</td>\n",
       "      <td>5.0</td>\n",
       "      <td>34.0</td>\n",
       "    </tr>\n",
       "    <tr>\n",
       "      <th>1</th>\n",
       "      <td>The Burning Maze</td>\n",
       "      <td>Rick Riordan</td>\n",
       "      <td>Robbie Daymond</td>\n",
       "      <td>2018-01-05</td>\n",
       "      <td>English</td>\n",
       "      <td>820.0</td>\n",
       "      <td>0 days 13:08:00</td>\n",
       "      <td>4.5</td>\n",
       "      <td>41.0</td>\n",
       "    </tr>\n",
       "    <tr>\n",
       "      <th>2</th>\n",
       "      <td>The Deep End</td>\n",
       "      <td>Jeff Kinney</td>\n",
       "      <td>Dan Russell</td>\n",
       "      <td>2020-06-11</td>\n",
       "      <td>English</td>\n",
       "      <td>410.0</td>\n",
       "      <td>0 days 02:03:00</td>\n",
       "      <td>4.5</td>\n",
       "      <td>38.0</td>\n",
       "    </tr>\n",
       "    <tr>\n",
       "      <th>3</th>\n",
       "      <td>Daughter of the Deep</td>\n",
       "      <td>Rick Riordan</td>\n",
       "      <td>Soneela Nankani</td>\n",
       "      <td>2021-05-10</td>\n",
       "      <td>English</td>\n",
       "      <td>615.0</td>\n",
       "      <td>0 days 11:16:00</td>\n",
       "      <td>4.5</td>\n",
       "      <td>12.0</td>\n",
       "    </tr>\n",
       "    <tr>\n",
       "      <th>4</th>\n",
       "      <td>The Lightning Thief: Percy Jackson, Book 1</td>\n",
       "      <td>Rick Riordan</td>\n",
       "      <td>Jesse Bernstein</td>\n",
       "      <td>2010-01-13</td>\n",
       "      <td>English</td>\n",
       "      <td>820.0</td>\n",
       "      <td>0 days 10:00:00</td>\n",
       "      <td>4.5</td>\n",
       "      <td>181.0</td>\n",
       "    </tr>\n",
       "    <tr>\n",
       "      <th>...</th>\n",
       "      <td>...</td>\n",
       "      <td>...</td>\n",
       "      <td>...</td>\n",
       "      <td>...</td>\n",
       "      <td>...</td>\n",
       "      <td>...</td>\n",
       "      <td>...</td>\n",
       "      <td>...</td>\n",
       "      <td>...</td>\n",
       "    </tr>\n",
       "    <tr>\n",
       "      <th>87484</th>\n",
       "      <td>Last Days of the Bus Club</td>\n",
       "      <td>Chris Stewart</td>\n",
       "      <td>Chris Stewart</td>\n",
       "      <td>2017-09-03</td>\n",
       "      <td>English</td>\n",
       "      <td>596.0</td>\n",
       "      <td>0 days 07:34:00</td>\n",
       "      <td>NaN</td>\n",
       "      <td>NaN</td>\n",
       "    </tr>\n",
       "    <tr>\n",
       "      <th>87485</th>\n",
       "      <td>The Alps</td>\n",
       "      <td>Stephen O'Shea</td>\n",
       "      <td>Robert Fass</td>\n",
       "      <td>2017-02-21</td>\n",
       "      <td>English</td>\n",
       "      <td>820.0</td>\n",
       "      <td>0 days 10:07:00</td>\n",
       "      <td>NaN</td>\n",
       "      <td>NaN</td>\n",
       "    </tr>\n",
       "    <tr>\n",
       "      <th>87486</th>\n",
       "      <td>The Innocents Abroad</td>\n",
       "      <td>Mark Twain</td>\n",
       "      <td>Flo Gibson</td>\n",
       "      <td>2016-12-30</td>\n",
       "      <td>English</td>\n",
       "      <td>938.0</td>\n",
       "      <td>0 days 19:04:00</td>\n",
       "      <td>NaN</td>\n",
       "      <td>NaN</td>\n",
       "    </tr>\n",
       "    <tr>\n",
       "      <th>87487</th>\n",
       "      <td>A Sentimental Journey</td>\n",
       "      <td>Laurence Sterne</td>\n",
       "      <td>Anton Lesser</td>\n",
       "      <td>2011-02-23</td>\n",
       "      <td>English</td>\n",
       "      <td>680.0</td>\n",
       "      <td>0 days 04:08:00</td>\n",
       "      <td>NaN</td>\n",
       "      <td>NaN</td>\n",
       "    </tr>\n",
       "    <tr>\n",
       "      <th>87488</th>\n",
       "      <td>Havana</td>\n",
       "      <td>Mark Kurlansky</td>\n",
       "      <td>Fleet Cooper</td>\n",
       "      <td>2017-07-03</td>\n",
       "      <td>English</td>\n",
       "      <td>569.0</td>\n",
       "      <td>0 days 06:01:00</td>\n",
       "      <td>NaN</td>\n",
       "      <td>NaN</td>\n",
       "    </tr>\n",
       "  </tbody>\n",
       "</table>\n",
       "<p>87489 rows × 9 columns</p>\n",
       "</div>"
      ],
      "text/plain": [
       "                                             name            author  \\\n",
       "0                      Geronimo Stilton #11 & #12  Geronimo Stilton   \n",
       "1                                The Burning Maze      Rick Riordan   \n",
       "2                                    The Deep End       Jeff Kinney   \n",
       "3                            Daughter of the Deep      Rick Riordan   \n",
       "4      The Lightning Thief: Percy Jackson, Book 1      Rick Riordan   \n",
       "...                                           ...               ...   \n",
       "87484                   Last Days of the Bus Club     Chris Stewart   \n",
       "87485                                    The Alps    Stephen O'Shea   \n",
       "87486                        The Innocents Abroad        Mark Twain   \n",
       "87487                       A Sentimental Journey   Laurence Sterne   \n",
       "87488                                      Havana    Mark Kurlansky   \n",
       "\n",
       "              narrator release_date language  price        duration  \\\n",
       "0          Bill Lobely   2008-04-08  English  468.0 0 days 02:20:00   \n",
       "1       Robbie Daymond   2018-01-05  English  820.0 0 days 13:08:00   \n",
       "2          Dan Russell   2020-06-11  English  410.0 0 days 02:03:00   \n",
       "3      Soneela Nankani   2021-05-10  English  615.0 0 days 11:16:00   \n",
       "4      Jesse Bernstein   2010-01-13  English  820.0 0 days 10:00:00   \n",
       "...                ...          ...      ...    ...             ...   \n",
       "87484    Chris Stewart   2017-09-03  English  596.0 0 days 07:34:00   \n",
       "87485      Robert Fass   2017-02-21  English  820.0 0 days 10:07:00   \n",
       "87486       Flo Gibson   2016-12-30  English  938.0 0 days 19:04:00   \n",
       "87487     Anton Lesser   2011-02-23  English  680.0 0 days 04:08:00   \n",
       "87488     Fleet Cooper   2017-07-03  English  569.0 0 days 06:01:00   \n",
       "\n",
       "       rating_score  rating_no  \n",
       "0               5.0       34.0  \n",
       "1               4.5       41.0  \n",
       "2               4.5       38.0  \n",
       "3               4.5       12.0  \n",
       "4               4.5      181.0  \n",
       "...             ...        ...  \n",
       "87484           NaN        NaN  \n",
       "87485           NaN        NaN  \n",
       "87486           NaN        NaN  \n",
       "87487           NaN        NaN  \n",
       "87488           NaN        NaN  \n",
       "\n",
       "[87489 rows x 9 columns]"
      ]
     },
     "execution_count": 13,
     "metadata": {},
     "output_type": "execute_result"
    }
   ],
   "source": [
    "audio_df"
   ]
  },
  {
   "cell_type": "code",
   "execution_count": 14,
   "id": "cc47e4b4-d906-4c76-a32d-c705f0d4910a",
   "metadata": {},
   "outputs": [
    {
     "name": "stdout",
     "output_type": "stream",
     "text": [
      "<class 'pandas.core.frame.DataFrame'>\n",
      "RangeIndex: 87489 entries, 0 to 87488\n",
      "Data columns (total 9 columns):\n",
      " #   Column        Non-Null Count  Dtype          \n",
      "---  ------        --------------  -----          \n",
      " 0   name          87489 non-null  object         \n",
      " 1   author        87489 non-null  object         \n",
      " 2   narrator      86455 non-null  object         \n",
      " 3   release_date  87489 non-null  datetime64[ns] \n",
      " 4   language      87489 non-null  category       \n",
      " 5   price         87489 non-null  float64        \n",
      " 6   duration      87489 non-null  timedelta64[ns]\n",
      " 7   rating_score  15072 non-null  float64        \n",
      " 8   rating_no     15072 non-null  float64        \n",
      "dtypes: category(1), datetime64[ns](1), float64(3), object(3), timedelta64[ns](1)\n",
      "memory usage: 5.4+ MB\n"
     ]
    }
   ],
   "source": [
    "audio_df.info()"
   ]
  },
  {
   "cell_type": "markdown",
   "id": "f36584b6-40a8-4c94-983b-e15cb062b630",
   "metadata": {},
   "source": [
    "From this info, we observe that the cleaned dataset includes many null values.\n",
    "To have a better imagination about the null values let's observe the situation graphically by the followinh heatmap."
   ]
  },
  {
   "cell_type": "code",
   "execution_count": 15,
   "id": "f0d0028a-326c-431c-bafd-792c63739645",
   "metadata": {},
   "outputs": [
    {
     "data": {
      "text/plain": [
       "<AxesSubplot:>"
      ]
     },
     "execution_count": 15,
     "metadata": {},
     "output_type": "execute_result"
    },
    {
     "data": {
      "image/png": "[encoded data removed]",
      "text/plain": [
       "<Figure size 640x480 with 1 Axes>"
      ]
     },
     "metadata": {},
     "output_type": "display_data"
    }
   ],
   "source": [
    "sns.heatmap(audio_df.isnull(), yticklabels=False, cbar=False, cmap='viridis')"
   ]
  },
  {
   "cell_type": "markdown",
   "id": "ff30efd7-7554-45ae-b770-48eb2405cf05",
   "metadata": {},
   "source": [
    "We observe too much null values for rating. If we decide ti simply remove all the rows including null ratings, we loose more tan 80% of the data (from the info() output we have total rows of 87489 including 15072 not null value for rating) which is a lot. Depending on the analysis purpose we shoul find the best wat to deal with these missed information, such as removing the rows including null values, ignoring the rating columns totally, data imputation, etc."
   ]
  },
  {
   "cell_type": "code",
   "execution_count": 16,
   "id": "f4e7552a-4c77-46de-99be-f7f7c8094ec0",
   "metadata": {},
   "outputs": [],
   "source": [
    "file_path = os.path.join('data', 'audible_cleaned.csv')\n",
    "audio_df.to_csv(file_path)"
   ]
  },
  {
   "cell_type": "markdown",
   "id": "990c58a0-821d-4031-894c-849502c70bd5",
   "metadata": {},
   "source": [
    "Now the data is stored ina anew file and we can proceed for required exploratory analysis from this clean dataset."
   ]
  }
 ],
 "metadata": {
  "kernelspec": {
   "display_name": "Python 3 (ipykernel)",
   "language": "python",
   "name": "python3"
  },
  "language_info": {
   "codemirror_mode": {
    "name": "ipython",
    "version": 3
   },
   "file_extension": ".py",
   "mimetype": "text/x-python",
   "name": "python",
   "nbconvert_exporter": "python",
   "pygments_lexer": "ipython3",
   "version": "3.7.16"
  }
 },
 "nbformat": 4,
 "nbformat_minor": 5
}
